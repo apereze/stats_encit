{
 "cells": [
  {
   "cell_type": "markdown",
   "id": "862877bd-95c1-4b3d-853f-18a89be19b05",
   "metadata": {},
   "source": [
    "# Es tu turno de probar y autoevaluarte con tus respuestas. \n",
    "\n",
    "Para ello deberás contestar los siguientes planteamientos y mandar tus respuestas a través del Google Forms que anexo aquí.\n",
    "\n",
    "https://docs.google.com/forms/d/e/1FAIpQLSf6RRYtxIfD_2Lfncd0S4_BNagvM0lztkUU8but9NlFVTpE8w/viewform?usp=sharing\n",
    "\n",
    "Mucho Exito. "
   ]
  },
  {
   "cell_type": "code",
   "execution_count": 1,
   "id": "df47a8eb-5f05-4b7d-b34c-74aaa4c16da2",
   "metadata": {},
   "outputs": [],
   "source": [
    "import pandas as pd\n",
    "import numpy as np\n",
    "import matplotlib.pyplot as plt\n",
    "import seaborn as sns"
   ]
  },
  {
   "cell_type": "code",
   "execution_count": 4,
   "id": "f125cacb-1b59-4ed4-9be6-b6c371fc4c06",
   "metadata": {},
   "outputs": [],
   "source": [
    "df = pd.read_csv('ibtracs.csv', low_memory = False)\n",
    "columnas = ['SEASON', 'BASIN', 'NAME', 'ISO_TIME', 'LAT', 'LON', 'WMO_PRES', 'DIST2LAND', 'USA_SSHS', 'USA_ROCI', 'USA_RMW', 'STORM_DIR']\n",
    "df_slice = df[columnas].copy()"
   ]
  },
  {
   "cell_type": "markdown",
   "id": "51176106-6abb-4181-9922-55c34c8e644a",
   "metadata": {},
   "source": [
    "#### 1. Para las siguientes variables imprimelas y coloca el tipo de variable a las que corresponden \n",
    "1. SEASON\n",
    "2. NAME\n",
    "3. STORM_DIR (unidades = grados)\n",
    "4. LON (unidades =  grados)"
   ]
  },
  {
   "cell_type": "code",
   "execution_count": null,
   "id": "2feb4198-4474-4ec4-925c-7c9d31fdc3b3",
   "metadata": {},
   "outputs": [],
   "source": []
  },
  {
   "cell_type": "markdown",
   "id": "69e5e821-3c16-4043-944b-aba4bb507180",
   "metadata": {},
   "source": [
    "#### 2. ¿La variable USA_SSHS es una variable a la que puedas sacarle el promedio? ¿Bajo que escala se mide?\n"
   ]
  },
  {
   "cell_type": "code",
   "execution_count": null,
   "id": "76ba7b77-13e4-48a2-b682-a9bb66dbf993",
   "metadata": {},
   "outputs": [],
   "source": []
  },
  {
   "cell_type": "markdown",
   "id": "52223932-8b3b-49f0-b9bf-bd42bb805e8f",
   "metadata": {},
   "source": [
    "#### 3. Realiza el gráfico que consideres conveniente para la variable USA_SSHS (Categoría en la escala Saffir-Simpson según EE.UU., que clasifica los ciclones según la intensidad del viento.). Puedes renombrar la columna con los codigos: \n",
    "- -5 = Unknown [XX]\n",
    "- -4 = Post-tropical [EX, ET, PT]\n",
    "- -3 = Miscellaneous disturbances [WV, LO, DB, DS, IN, MD]\n",
    "- -2 = Subtropical [SS, SD]\n",
    "-  -1 = Tropical depression (W<34)\n",
    "-  0 = Tropical storm [34<W<64]\n",
    "-  1 = Category 1 [64<=W<83]\n",
    "-  2 = Category 2 [83<=W<96]\n",
    "- 3 = Category 3 [96<=W<113]\n",
    "- 4 = Category 4 [113<=W<137]\n",
    "- 5 = Category 5 [W >= 137]\n",
    "\n",
    "#### ¿Que tipo de Ciclon es el más frecuente y cuál el menos frecuente?"
   ]
  },
  {
   "cell_type": "code",
   "execution_count": null,
   "id": "234eb852-332c-4d71-a9ad-afeb3a8c1dac",
   "metadata": {},
   "outputs": [],
   "source": []
  },
  {
   "cell_type": "markdown",
   "id": "e5e47582-a445-40b8-bcfb-11c76639586a",
   "metadata": {},
   "source": [
    "#### 4. La variable DIST2LAND representa la distancia en kilómetro de los Ciclones tropicales a la costa más cercana de acuerdo a su trayectoria. De acuerdo a sus medidas de tendencia central, ¿Cuál sería el comportamiento típico de los ciclones tropicales reportados en cuanto a distancia?"
   ]
  },
  {
   "cell_type": "code",
   "execution_count": null,
   "id": "583c7e44-072f-4d5d-a4cd-709a2b1e1830",
   "metadata": {},
   "outputs": [],
   "source": []
  },
  {
   "cell_type": "markdown",
   "id": "9448c742-e044-43c7-8dda-eaf258b2d1f8",
   "metadata": {},
   "source": [
    "### 5. Las variables 'USA_ROCI' y 'USA_RMW' representan dos medidas de los tamaños de los ciclones tropicales. Graficando sus histogramas Y BOXPLOTS contesta las siguientes preguntas: \n",
    "A. ¿Bajo cuál medida los ciclones tropicales son más grandes?\n",
    "\n",
    "B. ¿En que cuenca los ciclones tropicales son más grandes usando el ROCI?\n",
    "\n",
    "c. ¿En que cuenca los ciclones tropicales son más pequeños usando el RMW?"
   ]
  },
  {
   "cell_type": "code",
   "execution_count": null,
   "id": "b983fee5-a6a9-49e8-95c4-863410cfc3c2",
   "metadata": {},
   "outputs": [],
   "source": []
  }
 ],
 "metadata": {
  "kernelspec": {
   "display_name": "Python 3 (ipykernel)",
   "language": "python",
   "name": "python3"
  },
  "language_info": {
   "codemirror_mode": {
    "name": "ipython",
    "version": 3
   },
   "file_extension": ".py",
   "mimetype": "text/x-python",
   "name": "python",
   "nbconvert_exporter": "python",
   "pygments_lexer": "ipython3",
   "version": "3.9.18"
  }
 },
 "nbformat": 4,
 "nbformat_minor": 5
}
