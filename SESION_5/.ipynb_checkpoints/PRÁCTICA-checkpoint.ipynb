{
 "cells": [
  {
   "cell_type": "markdown",
   "id": "da948d8f-4084-4b40-8b20-49dc69329817",
   "metadata": {},
   "source": [
    "# SESION DE TRABAJO 5. Descripción Gráfica: la revancha (clase práctica)\n",
    "\n",
    "**¡Bienvenides mis querides programadores!** \n",
    "\n",
    "Este Notebook está pensado para ejecutar una serie de códigos que nos ayudará a repasar y aterrizar lo que hasta este punto hemos visto del análisis de datos, haciendo un hincapié en la **ESTADÍSTICA DESCRIPTIVA**. Bueno, como tal haremos lo de siempre, te explico y luego te corresponderá a ti hacer el resto de análisis correspondientes. Te recomiendo que este notebook lo llenes de notas y comentarios y te lo envíes por correo para guardar todo lo aprendido durante las clases. \n",
    "\n",
    "Para hacerlo más interesante lo haremos con datos reales. Y claro, con algo relacionado con ciencias de la tierra. No te preocupes, te ayudaré en la primera interpretación, aunque sería bueno que con los conocimientos básicos puedas entender lo que significa lo que estamos haciendo. Así que como verás te presento los datos con los que estaremos trabajando. "
   ]
  },
  {
   "cell_type": "markdown",
   "id": "97b1c0a6-f076-406f-aa98-19f9450a95c1",
   "metadata": {},
   "source": [
    "## 0. Introducción de base de datos iBTRAcS\n",
    "### ¿Qué es IBTrACS?\n",
    "\n",
    "\n",
    "Trabajaremos con los datos de IBTrACS (International Best Track Archive for Climate Stewardship), una base de datos global que recopila información sobre ciclones tropicales. Este recurso ya se ha mencionado previamente en este curso. Los datos originales se pueden consultar aquí:\n",
    "\n",
    "Puedes obtener más información [aquí](https://www.ncei.noaa.gov/products/international-best-track-archive).\n",
    "\n",
    "Como ocurre con muchos proyectos de gran escala, los datos de IBTrACS se encuentran distribuidos en múltiples archivos y formatos. Los datos en su forma original están disponibles en varios formatos como NetCDF y CSV. Aunque pandas puede leer archivos CSV sin problemas, trabajar con formatos como NetCDF requiere un conocimiento más avanzado. Por esta razón, en este curso nos enfocaremos en archivos CSV, que son más comunes y fáciles de manejar.\n",
    "\n",
    "---\n",
    "\n",
    "Su profesor ha usado estos datos múltiples veces así para que te des un aire de lo que contiene te dejo un gráfico realizado por mí: \n",
    "\n",
    "![](images/fig_1.jpeg)\n",
    "\n",
    "Los puntitos que ves son posiciones de los ciclones tropicales, y trabajaras con algo similar. Así que manos a la obra..."
   ]
  },
  {
   "cell_type": "markdown",
   "id": "a51a3c49-8e32-4f35-9f07-868d4809eece",
   "metadata": {},
   "source": [
    "## 1. Bibliotecas "
   ]
  },
  {
   "cell_type": "code",
   "execution_count": null,
   "id": "fc66032e-cb88-4e42-8579-c87c0d6923c8",
   "metadata": {},
   "outputs": [],
   "source": [
    "import pandas as pd\n",
    "import numpy as np\n",
    "import matplotlib.pyplot as plt\n",
    "import seaborn as sns"
   ]
  },
  {
   "cell_type": "markdown",
   "id": "e54d17bb-dfe9-456e-b01c-e299c270e9c1",
   "metadata": {},
   "source": [
    "## 2. Carga de la base de Datos\n",
    "\n",
    "Pandas es una biblioteca poderosa para trabajar con datos. En esta actividad, utilizaremos algunas de sus características básicas. La estructura principal que maneja pandas es el \"DataFrame\", una tabla bidimensional en la que las filas suelen representar casos (en este caso, ciclones tropicales) y las columnas representan variables. Pandas también maneja una estructura unidimensional llamada \"Series\", que también encontraremos más adelante.\n",
    "\n",
    "Pandas ofrece varias funciones con el prefijo 'read_' para leer diferentes formatos de archivos. En nuestro caso, nos enfocaremos en la función `read_csv`, que se utiliza para leer archivos de texto delimitados por comas, como los que pueden exportarse desde Excel. De forma predeterminada, `read_csv` asume que la primera fila del archivo contiene los nombres de las columnas, y estos se utilizan para etiquetar las columnas del DataFrame creado.\n",
    "\n",
    "Usar `read_csv` en su modo predeterminado es sencillo. Sin embargo, existen muchas opciones adicionales que permiten manejar situaciones menos comunes, como cuando el delimitador es un tabulador en lugar de una coma (en ese caso, usaríamos `sep='\\t'`). Puedes consultar la documentación completa de `read_csv` para más detalles.\n",
    "\n",
    "Pandas también permite leer archivos directamente desde internet mediante una URL, como haremos a continuación. En el script de Python, llamaremos al conjunto de datos 'df', que será el nombre de la variable que contendrá el DataFrame después de haber cargado los datos.\n",
    "\n",
    "El primer argumento de `read_csv` suele ser una URL o el nombre de un archivo en tu computadora. Por ejemplo, la variable `url` en el código de abajo contiene la dirección web donde se encuentran los datos. Si el archivo estuviera en tu sistema local, pasarías la ruta del archivo en lugar de la URL, por ejemplo: `pd.read_csv(\"mi_archivo.csv\")` para leer un archivo llamado `mi_archivo.csv` en el directorio de trabajo actual.\n",
    "\n",
    "```python\n",
    "url = \"ibtracs.csv\"\n",
    "df = pd.read_csv(url)\n",
    "```\n",
    "\n",
    "Para confirmar que hemos obtenido los datos correctos, podemos mostrar la forma (número de filas y columnas) del DataFrame en el notebook. Recuerda que la última expresión en cualquier celda de un Jupyter notebook se imprime automáticamente, pero puedes forzar que otras expresiones se impriman usando la función `print`, por ejemplo, `print(df.shape)`.\n",
    "\n",
    "Según lo que vemos a continuación, el conjunto de datos cargado contiene X filas, que corresponden a ciclones registrados en IBTrACS, y Y columnas, que corresponden a diferentes variables climáticas y de seguimiento. Aunque IBTrACS recopila muchas más variables, aquí estamos trabajando con un archivo reducido que contiene un subconjunto específico de datos.\n"
   ]
  },
  {
   "cell_type": "code",
   "execution_count": null,
   "id": "d5650a74-a1d2-44a8-bc23-7dd73b04a5d7",
   "metadata": {},
   "outputs": [],
   "source": [
    "df = pd.read_csv('ibtracs.csv', low_memory = False)"
   ]
  },
  {
   "cell_type": "code",
   "execution_count": null,
   "id": "242345e8-7e91-4651-bc09-a3788b2c71c5",
   "metadata": {},
   "outputs": [],
   "source": [
    "df.shape"
   ]
  },
  {
   "cell_type": "markdown",
   "id": "d37bb685-c62e-41d2-9239-7cf46cceef1a",
   "metadata": {},
   "source": [
    "### 2.1 Explorando el contenido de un conjunto de datos\n",
    "\n",
    "Pandas ofrece varias maneras básicas de entender lo que hay en un conjunto de datos. Por ejemplo, anteriormente usamos el método `shape` para determinar el número de filas y columnas en un conjunto de datos. Las columnas en un DataFrame de Pandas tienen nombres, y para ver esos nombres puedes usar el método `columns`:\n",
    "\n",
    "```python\n",
    "df.columns\n",
    "```\n"
   ]
  },
  {
   "cell_type": "code",
   "execution_count": null,
   "id": "3dea130f-aca6-4f02-9285-993aeda84fba",
   "metadata": {},
   "outputs": [],
   "source": [
    "df.columns"
   ]
  },
  {
   "cell_type": "markdown",
   "id": "671b429c-6b17-41d1-b86e-f055c00a444c",
   "metadata": {},
   "source": [
    "Como ves, son demasiadas columnas y eso es porque IBTRACs contiene información de diferentes fuentes, para fines prácticos te ayudaré a seleccionar solo algunas columnas.\n",
    "\n",
    "### Descripción de las columnas del conjunto de datos IBTrACS\n",
    "\n",
    "A continuación, se describen las principales columnas que componen el conjunto de datos de IBTrACS:\n",
    "\n",
    "- **`SID`**: Identificador único de la tormenta. Este código combina información del ciclón y su temporada para facilitar su rastreo.\n",
    "\n",
    "- **`SEASON`**: Año en el que se desarrolló la tormenta. Este campo es útil para identificar en qué temporada ciclónica ocurrió el fenómeno.\n",
    "\n",
    "- **`NUMBER`**: Número de identificación del ciclón dentro de una temporada específica. Por ejemplo, el primer ciclón de la temporada tendrá el número 1.\n",
    "\n",
    "- **`BASIN`**: Océano o cuenca donde se formó el ciclón (por ejemplo, Atlántico, Pacífico). Ayuda a categorizar los ciclones según la región donde ocurrieron.\n",
    "\n",
    "- **`SUBBASIN`**: Subcuenca específica dentro de la cuenca principal donde se desarrolló la tormenta (por ejemplo, Golfo de México).\n",
    "\n",
    "- **`NAME`**: Nombre del ciclón, si se le asignó alguno. En muchos casos, las tormentas más significativas reciben un nombre para ser fácilmente reconocidas.\n",
    "\n",
    "- **`ISO_TIME`**: Fecha y hora del registro de datos en formato ISO (AAAA-MM-DDTHH:MM:SSZ). Esta columna es esencial para entender la evolución del ciclón en el tiempo.\n",
    "\n",
    "- **`NATURE`**: Naturaleza del sistema, indicando si es tropical, subtropical o extratropical, entre otros tipos.\n",
    "\n",
    "- **`LAT`**: Latitud en la que se localiza el ciclón durante la observación. Se expresa en grados decimales.\n",
    "\n",
    "- **`LON`**: Longitud en la que se localiza el ciclón durante la observación. También se expresa en grados decimales.\n",
    "\n",
    "- **`WMO_WIND`**: Velocidad máxima del viento (en nudos) según la Organización Meteorológica Mundial (WMO). Este valor es clave para determinar la intensidad de la tormenta.\n",
    "\n",
    "- **`WMO_PRES`**: Presión central mínima (en hPa) según la WMO. La presión baja es un indicador de la fuerza del ciclón.\n",
    "\n",
    "- **`WMO_AGENCY`**: Agencia meteorológica que reporta la información para este ciclón (por ejemplo, NOAA, JTWC). Esto es importante para la consistencia de los datos.\n",
    "\n",
    "- **`TRACK_TYPE`**: Tipo de seguimiento del ciclón, como \"operacional\" o \"reanalizado\". Indica la naturaleza de los datos que se están utilizando.\n",
    "\n",
    "- **`DIST2LAND`**: Distancia a la costa más cercana (en kilómetros). Ayuda a evaluar el potencial de impacto en áreas terrestres.\n",
    "\n",
    "- **`LANDFALL`**: Indica si el ciclón tocó tierra (\"1\" para sí, \"0\" para no). Este dato es clave para evaluar los efectos potenciales de la tormenta.\n",
    "\n",
    "- **`USA_STATUS`**: Estado del ciclón según los registros de EE.UU., por ejemplo, \"tropical storm\" o \"hurricane\".\n",
    "\n",
    "- **`USA_WIND`**: Velocidad máxima del viento (en nudos) según los registros de EE.UU.\n",
    "\n",
    "- **`USA_PRES`**: Presión central mínima (en hPa) según los registros de EE.UU.\n",
    "\n",
    "- **`USA_SSHS`**: Categoría en la escala Saffir-Simpson según EE.UU., que clasifica los ciclones según la intensidad del viento.\n",
    "\n",
    "- **`USA_R34_NE`**: Radio de vientos de 34 nudos en el cuadrante noreste (en millas náuticas).\n",
    "\n",
    "- **`USA_R34_SE`**: Radio de vientos de 34 nudos en el cuadrante sureste (en millas náuticas).\n",
    "\n",
    "- **`USA_R34_SW`**: Radio de vientos de 34 nudos en el cuadrante suroeste (en millas náuticas).\n",
    "\n",
    "- **`USA_R34_NW`**: Radio de vientos de 34 nudos en el cuadrante noroeste (en millas náuticas).\n",
    "\n",
    "- **`USA_ROCI`**: Radio de circulación exterior, que indica el alcance general de los vientos (en millas náuticas).\n",
    "\n",
    "- **`USA_RMW`**: Radio de vientos máximos, indicando la distancia desde el centro de la tormenta hasta donde ocurren los vientos más fuertes (en millas náuticas).\n",
    "\n",
    "- **`USA_EYE`**: Diámetro del ojo del ciclón, si aplica (en millas náuticas).\n",
    "\n",
    "- **`STORM_SPEED`**: Velocidad de desplazamiento de la tormenta (en nudos). Indica cuán rápido se mueve el sistema a través del océano o tierra.\n",
    "\n",
    "- **`STORM_DIR`**: Dirección en grados en la que se desplaza la tormenta (0 a 360 grados).\n",
    "\n",
    "Este conjunto de datos es esencial para estudiar la trayectoria, intensidad y comportamiento de los ciclones tropicales a nivel mundial.\n",
    "\n"
   ]
  },
  {
   "cell_type": "code",
   "execution_count": null,
   "id": "c9157cb6-718c-49b7-b4e8-50c2b2b2bce4",
   "metadata": {},
   "outputs": [],
   "source": [
    "columnas = ['SID', 'SEASON', 'NUMBER', 'BASIN', 'SUBBASIN', 'NAME', 'ISO_TIME', 'NATURE', 'LAT', 'LON', 'WMO_WIND', 'WMO_PRES', 'WMO_AGENCY', \n",
    "'TRACK_TYPE', 'DIST2LAND', 'LANDFALL', 'USA_STATUS', 'USA_WIND', 'USA_PRES', 'USA_SSHS', 'USA_R34_NE', 'USA_R34_SE', 'USA_R34_SW',\n",
    " 'USA_R34_NW', 'USA_ROCI', 'USA_RMW', 'USA_EYE', 'STORM_SPEED', 'STORM_DIR']\n",
    "\n",
    "## Aquí hacemos un \"slice de la base de datos para solo colocar la información de nuestro interes\"\n",
    "\n",
    "df_slice = df[columnas].copy()"
   ]
  },
  {
   "cell_type": "code",
   "execution_count": null,
   "id": "fdc3c31f-1039-4087-b7af-be938d7e63c0",
   "metadata": {},
   "outputs": [],
   "source": [
    "df_slice.columns"
   ]
  },
  {
   "cell_type": "markdown",
   "id": "c9ab9424-c7ea-46e5-8b94-e40c5b64d505",
   "metadata": {},
   "source": [
    "\n",
    "Cada variable en un DataFrame de Pandas tiene un tipo de dato. Hay muchos tipos de datos diferentes, pero los más comunes son valores de punto flotante (números reales), enteros, cadenas (texto) y valores de fecha/hora. Cuando Pandas lee un archivo de texto o CSV, adivina los tipos de datos basándose en lo que ve en las primeras filas del archivo. Usualmente selecciona un tipo adecuado, pero ocasionalmente no lo hace. Para confirmar que los tipos de datos son consistentes con lo que las variables representan, inspecciona el atributo `dtypes` del DataFrame."
   ]
  },
  {
   "cell_type": "code",
   "execution_count": null,
   "id": "d3c75c40-59dd-4e85-9278-0bbe2ebe0864",
   "metadata": {},
   "outputs": [],
   "source": [
    "df_slice.dtypes"
   ]
  },
  {
   "cell_type": "markdown",
   "id": "4173fcd7-0629-41b3-8d2f-280e1fd3aac9",
   "metadata": {},
   "source": [
    "#### Es hora de algunas preguntas...\n",
    "1. ¿Con los tipos de datos antes visto podrías decir que tipo de variables son?\n",
    "2. ¿Consideras que es útil entonces conocer previamente de que tipo de variables hablamos?"
   ]
  },
  {
   "cell_type": "markdown",
   "id": "071f19eb-7be2-43ea-9e2f-79dc07fe1003",
   "metadata": {},
   "source": [
    "## 3. VARIABLES CATEGORICAS"
   ]
  },
  {
   "cell_type": "markdown",
   "id": "08f1a640-446e-4347-b762-ef0410e4e877",
   "metadata": {},
   "source": [
    "De la lista anterior trabajaremos con algunas variables categóricas expresadas en la columna BASIN. Veamos los valores unicos en esta columna:"
   ]
  },
  {
   "cell_type": "code",
   "execution_count": null,
   "id": "b80e38c7-6589-4dc8-8ca7-584cc2f2aebc",
   "metadata": {},
   "outputs": [],
   "source": [
    "df_slice.BASIN.unique()"
   ]
  },
  {
   "cell_type": "markdown",
   "id": "2c7cb09a-8015-4c2f-832f-84b0053d43f8",
   "metadata": {},
   "source": [
    "Los valores de acuerdo a la documentación deberían ser: \n",
    "- NA - North Atlantic\n",
    "- EP - Eastern North Pacific\n",
    "- WP - Western North Pacific\n",
    "- NI - North Indian\n",
    "- SI - South Indian\n",
    "- SP - Southern Pacific\n",
    "- SA - South Atlantic\n",
    "- MM - Missing - should not appear in final IBTrACS product"
   ]
  },
  {
   "cell_type": "markdown",
   "id": "a458a6f2-b1d6-4b79-a87b-3a3340399105",
   "metadata": {},
   "source": [
    "Hagamos una tabla de frecuencia para la variable: "
   ]
  },
  {
   "cell_type": "code",
   "execution_count": null,
   "id": "a570074a-c776-41fc-b395-a770795cd49a",
   "metadata": {},
   "outputs": [],
   "source": [
    "# Paso 1: Crear la tabla de frecuencia de la columna BASIN\n",
    "# La función value_counts() cuenta la frecuencia de cada categoría en la columna.\n",
    "frecuencia = df_slice['BASIN'].value_counts()"
   ]
  },
  {
   "cell_type": "code",
   "execution_count": null,
   "id": "87836f9d-def2-4af2-92be-c2efb9268a5e",
   "metadata": {},
   "outputs": [],
   "source": [
    "# Paso 2: Convertir la tabla de frecuencia en un DataFrame\n",
    "# Usamos reset_index() para transformar la serie de frecuencias en un DataFrame.\n",
    "tabla_frecuencia = frecuencia.reset_index()"
   ]
  },
  {
   "cell_type": "code",
   "execution_count": null,
   "id": "7b18c5f6-031d-4efa-b996-a2e8731a22fe",
   "metadata": {},
   "outputs": [],
   "source": [
    "# Paso 3: Renombrar las columnas del DataFrame\n",
    "# La primera columna será 'BASIN' y la segunda 'FRECUENCIA'.\n",
    "tabla_frecuencia.columns = ['BASIN', 'FRECUENCIA']"
   ]
  },
  {
   "cell_type": "code",
   "execution_count": null,
   "id": "9b5a8938-4404-4284-8168-9b79c27cfe4c",
   "metadata": {},
   "outputs": [],
   "source": [
    "# Nota: Hasta aquí, la tabla de frecuencia está lista.\n",
    "\n",
    "# Paso 4: Agregar la columna de frecuencia relativa (porcentaje)\n",
    "# La frecuencia relativa se obtiene dividiendo cada frecuencia por el total y multiplicando por 100.\n",
    "tabla_frecuencia['FRECUENCIA_RELATIVA'] = (tabla_frecuencia['FRECUENCIA'] / tabla_frecuencia['FRECUENCIA'].sum()) * 100"
   ]
  },
  {
   "cell_type": "code",
   "execution_count": null,
   "id": "098a2286-72ef-43ed-8ce0-49acaac4d7e6",
   "metadata": {},
   "outputs": [],
   "source": [
    "# Paso 5: Agregar la columna de fracción\n",
    "# La fracción se obtiene dividiendo la frecuencia de cada categoría entre el total.\n",
    "tabla_frecuencia['FRACCIÓN'] = tabla_frecuencia['FRECUENCIA'] / tabla_frecuencia['FRECUENCIA'].sum()"
   ]
  },
  {
   "cell_type": "code",
   "execution_count": null,
   "id": "58aa9f6c-2d18-4391-a381-fe554556b0a8",
   "metadata": {},
   "outputs": [],
   "source": [
    "# Mostrar la tabla de frecuencias con las nuevas columnas\n",
    "tabla_frecuencia"
   ]
  },
  {
   "cell_type": "code",
   "execution_count": null,
   "id": "f46dc981-244d-418c-9d1b-88cc5b670622",
   "metadata": {},
   "outputs": [],
   "source": [
    "print(\"\\nTotales de cada columna:\")\n",
    "print(f\"Total Frecuencia: {tabla_frecuencia['FRECUENCIA'].sum()}\")\n",
    "print(f\"Total Frecuencia Relativa (%): {tabla_frecuencia['FRECUENCIA_RELATIVA'].sum()}%\")\n",
    "print(f\"Total Fracción: {tabla_frecuencia['FRACCIÓN'].sum()}\")"
   ]
  },
  {
   "cell_type": "code",
   "execution_count": null,
   "id": "faaf831c-41d0-4366-99df-2c8218c4a0da",
   "metadata": {},
   "outputs": [],
   "source": [
    "print(\"\\nConteo de valores nulos en la columna:\")\n",
    "print(df_slice.BASIN.isnull().sum())"
   ]
  },
  {
   "cell_type": "code",
   "execution_count": null,
   "id": "6883ba8e-26f0-47a6-b932-9381010d9753",
   "metadata": {},
   "outputs": [],
   "source": [
    "# Paso 6: Contar los valores nulos en la columna BASIN\n",
    "frecuencia = df_slice['BASIN'].value_counts(dropna = False)\n",
    "tabla_frecuencia = frecuencia.reset_index()\n",
    "tabla_frecuencia.columns = ['BASIN', 'FRECUENCIA']\n",
    "tabla_frecuencia['FRECUENCIA_RELATIVA'] = (tabla_frecuencia['FRECUENCIA'] / tabla_frecuencia['FRECUENCIA'].sum()) * 100\n",
    "tabla_frecuencia['FRACCIÓN'] = tabla_frecuencia['FRECUENCIA'] / tabla_frecuencia['FRECUENCIA'].sum()\n",
    "tabla_frecuencia['BASIN'] = tabla_frecuencia['BASIN'].fillna('MM')"
   ]
  },
  {
   "cell_type": "code",
   "execution_count": null,
   "id": "3e4f7988-2d50-448c-9d2e-92d7ec39a1ca",
   "metadata": {},
   "outputs": [],
   "source": [
    "print(\"\\nTotales de cada columna:\")\n",
    "print(f\"Total Frecuencia: {tabla_frecuencia['FRECUENCIA'].sum()}\")\n",
    "print(f\"Total Frecuencia Relativa (%): {tabla_frecuencia['FRECUENCIA_RELATIVA'].sum()}%\")\n",
    "print(f\"Total Fracción: {tabla_frecuencia['FRACCIÓN'].sum()}\")"
   ]
  },
  {
   "cell_type": "markdown",
   "id": "93a2297f-49c0-460e-ae2d-c9efb40b51a7",
   "metadata": {},
   "source": [
    "### 3.1 Gráfico de barras por columna y Pareto bar chart. "
   ]
  },
  {
   "cell_type": "code",
   "execution_count": null,
   "id": "a23335c7-93f4-4f38-8865-c3cd67185bce",
   "metadata": {},
   "outputs": [],
   "source": [
    "tabla_frecuencia.BASIN.unique()"
   ]
  },
  {
   "cell_type": "code",
   "execution_count": null,
   "id": "3650088e-6185-41d2-b5a1-fcac83a27ce7",
   "metadata": {},
   "outputs": [],
   "source": [
    "# Paso 1: Crear gráfico de barras de la frecuencia\n",
    "fig1 = plt.figure(figsize=(12, 6))\n",
    "ax1 = sns.barplot(x='BASIN', y='FRECUENCIA', data=tabla_frecuencia, palette='viridis')\n",
    "plt.title('Frecuencia de Ciclones por Cuenca')\n",
    "plt.xlabel('Cuenca')\n",
    "plt.ylabel('Frecuencia')\n",
    "plt.show()"
   ]
  },
  {
   "cell_type": "code",
   "execution_count": null,
   "id": "b5571eea-23cd-4f4b-b776-b5bb2cd9f530",
   "metadata": {},
   "outputs": [],
   "source": [
    "# Crear el gráfico de Pareto\n",
    "fig2 = plt.figure(figsize=(12, 6))\n",
    "ax2 =sns.barplot(x='BASIN', y='FRECUENCIA_RELATIVA', data=tabla_frecuencia, palette='viridis')\n",
    "plt.title('Frecuencia de Ciclones por Cuenca')\n",
    "plt.xlabel('Cuenca')\n",
    "plt.ylabel('Frecuencia (%)')\n",
    "plt.show()\n",
    "\n"
   ]
  },
  {
   "cell_type": "markdown",
   "id": "45d02622-2d24-4ff9-bcf2-29b49f873436",
   "metadata": {},
   "source": [
    "Si te interesa agregar etiquetas: este codigo podría ser util: \n",
    "\n",
    "```python\n",
    "# Agregar etiquetas a las barras\n",
    "for p in ax1.patches:\n",
    "    ax1.annotate(format(p.get_height(), '.0f'), \n",
    "                 (p.get_x() + p.get_width() / 2., p.get_height()), \n",
    "                 ha='center', va='center', \n",
    "                 xytext=(0, 9), \n",
    "                 textcoords='offset points')              \n",
    "```"
   ]
  },
  {
   "cell_type": "code",
   "execution_count": null,
   "id": "1b892377-7731-4e6d-94a8-34326c1a38f4",
   "metadata": {},
   "outputs": [],
   "source": [
    "# Agregar etiquetas a las barras\n",
    "for p in ax1.patches:\n",
    "    ax1.annotate(format(p.get_height(), '.0f'), \n",
    "                 (p.get_x() + p.get_width() / 2., p.get_height()), \n",
    "                 ha='center', va='center', \n",
    "                 xytext=(0, 9), \n",
    "                 textcoords='offset points')\n",
    "fig1"
   ]
  },
  {
   "cell_type": "code",
   "execution_count": null,
   "id": "ec2ddcaf-4e04-452a-afe5-5a3e8a63308f",
   "metadata": {},
   "outputs": [],
   "source": [
    "### TU TURNO... AGREGA LAS ETIQUETAS A LA FRECUENCIA RELATIVA\n",
    "\n",
    "\n"
   ]
  },
  {
   "cell_type": "markdown",
   "id": "ad82050f-a90c-4fcf-8a07-383c4078f223",
   "metadata": {},
   "source": [
    "### 3.2 Agregemos un gráfico de pastel"
   ]
  },
  {
   "cell_type": "code",
   "execution_count": null,
   "id": "61de893e-842e-450f-bfd6-1f33d2a6b5a6",
   "metadata": {},
   "outputs": [],
   "source": [
    "# Paso 1: Crear gráfico de pastel\n",
    "plt.figure(figsize=(10, 8))\n",
    "plt.pie(tabla_frecuencia['FRECUENCIA'], labels=tabla_frecuencia['BASIN'], \n",
    "        autopct='%1.1f%%', colors=sns.color_palette('viridis', len(tabla_frecuencia)), \n",
    "        startangle=140, wedgeprops={'edgecolor': 'black'})\n",
    "\n",
    "plt.title('Distribución de Ciclones por Cuenca')\n",
    "plt.show()"
   ]
  },
  {
   "cell_type": "markdown",
   "id": "71c21c76-5b08-493e-b86a-bb04ad22f393",
   "metadata": {},
   "source": [
    "## 4. VARIABLES CUANTITATIVAS\n",
    "\n",
    "Para ilustrarte lo bello que es Python con variables cuantitativas vamos a trabajar con una serie de columnas que son numéricas. Una numérica discreta ('STORM_SPEED') y otra numérica continua ('USA_WIND).\n",
    "\n",
    "Ambas variables tienen un carácter de variables discretas veamos:"
   ]
  },
  {
   "cell_type": "code",
   "execution_count": null,
   "id": "5ad48b8d-dfe7-449d-9c3e-56ffb23877da",
   "metadata": {},
   "outputs": [],
   "source": [
    "print(f\"Algunos datos dentro de la variable STORM_SPEED son : \\n {df_slice.STORM_SPEED.unique()[:10]} \\n\")\n",
    "\n",
    "print(f\"Algunos datos dentro de la variable USA_WIND son :\\n {df_slice.USA_WIND.unique()[:10]}\")"
   ]
  },
  {
   "cell_type": "markdown",
   "id": "ec070c20-1b62-4004-9ed3-b9d2d258b9f2",
   "metadata": {},
   "source": [
    "Pero no te preocupes, vamos a cambiar una variable porque las velocidades estan en Nudos, y queremos conocer la velocidad de desplazamiento de los ciclones (STORM_SPEED) en km/h, así que multiplicaremos los valores por 1.854 factor de conversión de un nudo a 1 kmh. \n",
    "\n",
    "**CUIDADO** Tenemos un valor vacío en la columna USA_WIND vamos a limpiarlo propiamente. Tenemos varias opciones pero dado que en la velocidad el 0 SI es arbitrario asignaremos al valor ' ' un valor nulo. \n",
    "\n",
    "Hagamos las transformaciones propias. "
   ]
  },
  {
   "cell_type": "code",
   "execution_count": null,
   "id": "771d8f1c-ed97-4296-831b-6c6d4beba86c",
   "metadata": {},
   "outputs": [],
   "source": [
    "df_slice['STORM_SPEED_KMH'] = df_slice.STORM_SPEED.mul(1.854)\n",
    "df_slice['USA_WIND_CLN'] = df_slice.USA_WIND.replace({' ': np.nan}).astype(float)"
   ]
  },
  {
   "cell_type": "code",
   "execution_count": null,
   "id": "7bac7ebe-438a-4da2-a20a-fbf6d88c58d6",
   "metadata": {},
   "outputs": [],
   "source": [
    "# Definir los intervalos\n",
    "bins = [0, 10, 20, 30, 40, 50, 60, 70, 80, 90, 100, 110, 120]\n",
    "labels = ['0-10', '10-20', '20-30', '30-40', '40-50', '50-60', '60-70', '70-80', '80-90', '90-100', '100-110', '110-120']\n",
    "\n",
    "# Categorizar los datos en los intervalos definidos\n",
    "df_slice['INTERVALO'] = pd.cut(df_slice['STORM_SPEED_KMH'], bins=bins, labels=labels, right=False)\n",
    "\n",
    "# Contar la frecuencia de cada intervalo\n",
    "tabla_frecuencia = df_slice['INTERVALO'].value_counts().sort_index().reset_index()\n",
    "tabla_frecuencia.columns = ['INTERVALO', 'FRECUENCIA']\n",
    "# tabla_frecuencia['FRECUENCIA_RELATIVA'] = (tabla_frecuencia['FRECUENCIA'] / tabla_frecuencia['FRECUENCIA'].sum()) * 100\n",
    "tabla_frecuencia"
   ]
  },
  {
   "cell_type": "code",
   "execution_count": null,
   "id": "81edb3c5-da5d-4a91-9378-be871104250c",
   "metadata": {},
   "outputs": [],
   "source": [
    "df_slice['USA_WIND_CLN'].value_counts().reset_index().sort_values(by = 'USA_WIND_CLN')"
   ]
  },
  {
   "cell_type": "code",
   "execution_count": null,
   "id": "3111a106-2002-4adf-8cd8-b76d35353f5c",
   "metadata": {},
   "outputs": [],
   "source": [
    "# Definir los intervalos\n",
    "bins = [0, 20, 40, 60, 80, 100, 120, 140, 160, 180]\n",
    "labels = ['0-20', '20-40', '40-60', '60-80', '80-100', '100-120', '120-140', '140-160', '160-180']\n",
    "\n",
    "# Categorizar los datos en los intervalos definidos\n",
    "df_slice['INTERVALO'] = pd.cut(df_slice['USA_WIND_CLN'], bins=bins, labels=labels, right=False)\n",
    "\n",
    "# Contar la frecuencia de cada intervalo\n",
    "tabla_frecuencia = df_slice['INTERVALO'].value_counts().sort_index().reset_index()\n",
    "tabla_frecuencia.columns = ['INTERVALO', 'FRECUENCIA']\n",
    "# tabla_frecuencia['FRECUENCIA_RELATIVA'] = (tabla_frecuencia['FRECUENCIA'] / tabla_frecuencia['FRECUENCIA'].sum()) * 100\n",
    "tabla_frecuencia"
   ]
  },
  {
   "cell_type": "markdown",
   "id": "84068463-7eb8-4c4b-a757-daaeca9bb830",
   "metadata": {},
   "source": [
    "### 4.1 Medidas de tendencia central\n",
    "\n",
    "hagamos un SLICE de solo las columnas que usaremos y calculemos las metricas de: MEDIA, MEDIANA Y MODA. \n",
    "\n",
    "**Para la variable discreta**"
   ]
  },
  {
   "cell_type": "code",
   "execution_count": null,
   "id": "2141dbb0-7f26-4691-be72-88cc2b893d38",
   "metadata": {},
   "outputs": [],
   "source": [
    "df_slice.USA_WIND_CLN.mean()"
   ]
  },
  {
   "cell_type": "code",
   "execution_count": null,
   "id": "61e12e7e-dc91-46e1-8bfb-133eafe8e903",
   "metadata": {},
   "outputs": [],
   "source": [
    "df_slice.USA_WIND_CLN.median()"
   ]
  },
  {
   "cell_type": "markdown",
   "id": "be699b52-bd43-44a4-a082-ffccc587f733",
   "metadata": {},
   "source": [
    "¿Que puedes describir de los datos anteriores?\n",
    "\n"
   ]
  },
  {
   "cell_type": "code",
   "execution_count": null,
   "id": "4c48b062-1748-4658-8ced-39227b7b492f",
   "metadata": {},
   "outputs": [],
   "source": [
    "df_slice.USA_WIND_CLN.mode()"
   ]
  },
  {
   "cell_type": "markdown",
   "id": "e917b8ae-0a99-4aa2-8e4c-a993dec0da8e",
   "metadata": {},
   "source": [
    "¿Y de la moda?"
   ]
  },
  {
   "cell_type": "markdown",
   "id": "0aa5a2cc-58bc-4f4f-819b-99842aadf88c",
   "metadata": {},
   "source": [
    "**Para la variable continua**"
   ]
  },
  {
   "cell_type": "code",
   "execution_count": null,
   "id": "45344c1d-2671-448a-8011-f13972e60fac",
   "metadata": {},
   "outputs": [],
   "source": [
    "df_slice.STORM_SPEED_KMH.mean()"
   ]
  },
  {
   "cell_type": "code",
   "execution_count": null,
   "id": "2ca871f0-3159-42cc-a065-4dd522093cb0",
   "metadata": {},
   "outputs": [],
   "source": [
    "df_slice.STORM_SPEED_KMH.median()"
   ]
  },
  {
   "cell_type": "markdown",
   "id": "62dc0dc1-b89d-43d3-a46d-e35872d6a228",
   "metadata": {},
   "source": [
    "¿Que puedes describir de los datos anteriores?"
   ]
  },
  {
   "cell_type": "code",
   "execution_count": null,
   "id": "a9564b1f-4ca2-4a7c-8d7b-0875dee9631c",
   "metadata": {},
   "outputs": [],
   "source": [
    "df_slice.STORM_SPEED_KMH.mode()"
   ]
  },
  {
   "cell_type": "markdown",
   "id": "0298f853-d137-4d90-8763-0adbbaec9dda",
   "metadata": {},
   "source": [
    "___"
   ]
  },
  {
   "cell_type": "markdown",
   "id": "00c98847-2db8-4f74-82b4-6cf421b924a8",
   "metadata": {},
   "source": [
    "### EJERCICIO. CONTESTEMOS LAS SIGUIENTES TRES PREGUNTAS: \n",
    "\n",
    "A. En un estudio infieren que un ciclón tropical es lento si pertenece al 25% de las velocidades más bajas de los ciclones, y rápidos si superán al limte de los 75% de las velocidades. ¿A qué velocidades nos referimos?\n",
    "\n",
    "B. Si aplicamos la regla de los eventos extremos a la velocidad del viento del ciclón tropical, ¿Cuál sería dicho umbral?\n",
    "\n",
    "C. ¿En qué cuenca existen más ciclones extremos?"
   ]
  },
  {
   "cell_type": "markdown",
   "id": "eab19422-0a9b-43db-a93d-8390910aeeb9",
   "metadata": {},
   "source": [
    "### 4.2 Medidas de posición. "
   ]
  },
  {
   "cell_type": "code",
   "execution_count": null,
   "id": "41b5a142-fee5-4fdc-ac6b-5a1ac785ff0e",
   "metadata": {},
   "outputs": [],
   "source": [
    "## Pregunta A. Calculemos los cuartiles. El primer cuartil seria para identificar los ciclones lentos y el tercer cuartil \n",
    "# sería para definir los ciclones rápidas o lo que es igual los percentiles .25 y .75\n",
    "\n",
    "df_slice.STORM_SPEED_KMH.quantile([.25, .75])\n",
    " "
   ]
  },
  {
   "cell_type": "code",
   "execution_count": null,
   "id": "5b61d046-5d43-47f6-9434-120b0d8a8db2",
   "metadata": {},
   "outputs": [],
   "source": [
    "## Pregunta B. Calculemos el percentil 95 para conocer el extremo de los CTS\n",
    "\n",
    "df_slice.USA_WIND_CLN.quantile(.95)"
   ]
  },
  {
   "cell_type": "code",
   "execution_count": null,
   "id": "a50b14e8-64c2-4364-8b42-aafc9df4a85d",
   "metadata": {},
   "outputs": [],
   "source": [
    "### Pregunta C. En este caso haremos una diferencia entre las cuencas usando la función groupby de pandas y luego calculando aquellos donde el viento sea\n",
    "# superior a nuestro umbral calculado\n",
    "\n",
    "df_slice[df_slice['USA_WIND_CLN'] > 108].groupby('BASIN').size().reset_index(name='COUNT_WIND_GT_108')"
   ]
  },
  {
   "cell_type": "markdown",
   "id": "a3958147-2c70-44fa-9cb0-c8a74bf24072",
   "metadata": {},
   "source": [
    "### 4.3 MEDIDAS DE DISPERSIÓN \n",
    "Calculemos ahora las medidas de dispersión, podrías decir si son suficientemente dispersas ...\n"
   ]
  },
  {
   "cell_type": "code",
   "execution_count": null,
   "id": "6cbb63a2-b80e-44cd-af23-db76a0f66ffb",
   "metadata": {},
   "outputs": [],
   "source": [
    "columna = 'STORM_SPEED_KMH'\n",
    "\n",
    "# Calcular el rango\n",
    "rango = df_slice[columna].max() - df_slice[columna].min()\n",
    "\n",
    "# Calcular la desviación estándar\n",
    "desviacion_estandar = df_slice[columna].std()\n",
    "\n",
    "# Calcular el IQR\n",
    "Q1 = df_slice[columna].quantile(0.25)\n",
    "Q3 = df_slice[columna].quantile(0.75)\n",
    "IQR = Q3 - Q1\n",
    "\n",
    "# Mostrar los resultados\n",
    "print(f\"Rango: {rango}\")\n",
    "print(f\"Desviación Estándar: {desviacion_estandar}\")\n",
    "print(f\"IQR: {IQR}\")"
   ]
  },
  {
   "cell_type": "code",
   "execution_count": null,
   "id": "9d75e982-d634-4943-bf3c-96f508acaa88",
   "metadata": {},
   "outputs": [],
   "source": [
    "columna = 'USA_WIND_CLN'\n",
    "\n",
    "# Calcular el rango\n",
    "rango = df_slice[columna].max() - df_slice[columna].min()\n",
    "\n",
    "# Calcular la desviación estándar\n",
    "desviacion_estandar = df_slice[columna].std()\n",
    "\n",
    "# Calcular el IQR\n",
    "Q1 = df_slice[columna].quantile(0.25)\n",
    "Q3 = df_slice[columna].quantile(0.75)\n",
    "IQR = Q3 - Q1\n",
    "\n",
    "# Mostrar los resultados\n",
    "print(f\"Rango: {rango}\")\n",
    "print(f\"Desviación Estándar: {desviacion_estandar}\")\n",
    "print(f\"IQR: {IQR}\")"
   ]
  },
  {
   "cell_type": "markdown",
   "id": "243687f6-1d25-4a1e-9cb2-dc8a53825e3a",
   "metadata": {},
   "source": [
    "## HORA DE COMPROBAR LAS GRAFICAS... ENTRE HISTOGRAMAS Y BOXPLOTS"
   ]
  },
  {
   "cell_type": "code",
   "execution_count": null,
   "id": "1aa6f44e-55d9-4e7b-9b58-e762c6c18ac4",
   "metadata": {},
   "outputs": [],
   "source": [
    "## Podemos hacer un histograma simple como los que hemos visto: \n",
    "# Configurar el tamaño de la figura\n",
    "fig, ax = plt.subplots()\n",
    "\n",
    "# Crear el histograma con seaborn\n",
    "sns.histplot(df_slice['STORM_SPEED_KMH'], binwidth=10, edgecolor='white', alpha=0.7, kde=False, ax = ax)\n",
    "\n",
    "# Añadir títulos y etiquetas\n",
    "plt.title('Histograma de la Velocidad de Tormentas (km/h)')\n",
    "plt.xlabel('Velocidad de Tormenta (km/h)')\n",
    "plt.ylabel('Frecuencia')\n",
    "\n",
    "# Mostrar el gráfico\n",
    "plt.show()"
   ]
  },
  {
   "cell_type": "code",
   "execution_count": null,
   "id": "12036d1c-23d0-45be-ba21-324a7706f7b4",
   "metadata": {},
   "outputs": [],
   "source": [
    "mean = np.mean(df_slice['STORM_SPEED_KMH'])\n",
    "median = np.median(df_slice['STORM_SPEED_KMH'])"
   ]
  },
  {
   "cell_type": "code",
   "execution_count": null,
   "id": "136e8742-bde5-465b-820a-4bbb3bdfd5c5",
   "metadata": {},
   "outputs": [],
   "source": [
    "# Agregar líneas para la media y la mediana\n",
    "ax.axvline(mean, color='red', linestyle='dashed', linewidth=1)\n",
    "ax.axvline(median, color='blue', linestyle='dashed', linewidth=1)\n",
    "\n",
    "# Añadir una leyenda\n",
    "display(fig)\n"
   ]
  },
  {
   "cell_type": "code",
   "execution_count": null,
   "id": "b7b23690-f995-4590-9e9c-2c6a8caa50d7",
   "metadata": {},
   "outputs": [],
   "source": [
    "## GRAFICO PARA VELOCIDAD DEL VIENTO\n",
    "\n",
    "fig, ax = plt.subplots()\n",
    "\n",
    "# Crear el histograma con seaborn\n",
    "sns.histplot(df_slice['USA_WIND_CLN'], binwidth=20, edgecolor='white', alpha=0.7, kde=False, ax = ax)\n",
    "mean = np.mean(df_slice['USA_WIND_CLN'])\n",
    "median = np.median(df_slice['USA_WIND_CLN'].dropna())\n",
    "print(mean)\n",
    "print(median)\n",
    "ax.axvline(mean, color='red', linestyle='dashed', linewidth=1)\n",
    "ax.axvline(median, color='blue', linestyle='dashed', linewidth=1)\n",
    "# Añadir títulos y etiquetas\n",
    "plt.title('Histograma de la Velocidad de Tormentas (km/h)')\n",
    "plt.xlabel('Velocidad de Tormenta (km/h)')\n",
    "plt.ylabel('Frecuencia')\n",
    "\n",
    "# Mostrar el gráfico\n",
    "plt.show()"
   ]
  },
  {
   "cell_type": "markdown",
   "id": "7db9d0a3-bef8-4888-bbfd-5fbe54c2bc25",
   "metadata": {},
   "source": [
    "¿Cómo se comportan las variables?\n",
    "\n",
    "¿Qué información hace falta en estos gráficos?"
   ]
  },
  {
   "cell_type": "markdown",
   "id": "8734a25d-aa4d-4c48-a1d0-3714d39a92c0",
   "metadata": {},
   "source": [
    "## vamos con las cajas y bigotes...\n",
    "\n",
    "¿Sabrías decirme en que cuenca los ciclones son más intensos en vientos (No necesariamente por el p95)?\n",
    "\n",
    "¿Y en que cuenca hay ciclones más rápidos e intensos?"
   ]
  },
  {
   "cell_type": "code",
   "execution_count": null,
   "id": "02922f60-39aa-4767-a9b4-ac5b73c7dc3e",
   "metadata": {},
   "outputs": [],
   "source": [
    "df_slice"
   ]
  },
  {
   "cell_type": "code",
   "execution_count": null,
   "id": "1f44bc72-c24e-45a8-84b0-1136280ea0c3",
   "metadata": {},
   "outputs": [],
   "source": [
    "# Primera pregunta\n",
    "plt.figure(figsize=(10, 6))\n",
    "sns.boxplot(y='USA_WIND_CLN', x = 'BASIN', hue='BASIN', data=df_slice, palette='Set1',fill=False, gap=.1, legend =False)\n",
    "plt.yticks(ticks=range(10,171,20))\n",
    "\n",
    "\n",
    "# Etiquetas y título\n",
    "plt.title('Boxplot de Velocidades Intensivas del Viento')\n",
    "\n",
    "\n",
    "# Mostrar el boxplot\n",
    "plt.show()"
   ]
  },
  {
   "cell_type": "code",
   "execution_count": null,
   "id": "136108a8-8c17-4198-ab0f-266b82d4ab9e",
   "metadata": {},
   "outputs": [],
   "source": [
    "## Para la pregunta B \n",
    "\n",
    "# Calcular los cuartiles de 'STORM_SPEED_KMH'\n",
    "q1 = df_slice['STORM_SPEED_KMH'].quantile(0.25)\n",
    "q3 = df_slice['STORM_SPEED_KMH'].quantile(0.75)\n",
    "\n",
    "# Crear la nueva columna de clasificación\n",
    "def classify_storm_speed(speed):\n",
    "    if speed <= q1:\n",
    "        return 'Ciclón Lento'\n",
    "    elif speed >= q3:\n",
    "        return 'Ciclón Rápido'\n",
    "    else:\n",
    "        return 'Ciclón Normal'\n",
    "\n",
    "df_slice['STORM_CLASS'] = df_slice['STORM_SPEED_KMH'].apply(classify_storm_speed)"
   ]
  },
  {
   "cell_type": "code",
   "execution_count": null,
   "id": "1868edc7-36e1-473d-acee-0e30d83d0709",
   "metadata": {},
   "outputs": [],
   "source": [
    "# Crear el boxplot\n",
    "plt.figure(figsize=(12, 6))\n",
    "sns.boxplot(y = 'USA_WIND_CLN', x='BASIN', hue='STORM_CLASS', data=df_slice, palette='Set1')\n",
    "\n",
    "# Etiquetas y título\n",
    "plt.title('Boxplot de Velocidades del Viento por Cuenca y Tipo de Ciclón')\n",
    "plt.xlabel('Velocidades del Viento (m/s)')\n",
    "plt.ylabel('Tipo de Ciclón')\n",
    "\n",
    "# Mostrar el boxplot\n",
    "plt.show()"
   ]
  },
  {
   "cell_type": "markdown",
   "id": "ac0cae7d-5990-4843-990d-d7d14667466f",
   "metadata": {},
   "source": [
    "¿En que cuenca hay ciclones más lentos?\n",
    "\n",
    "¿Que sean ciclones lentos implica tengan más o menor intensidad de sus vientos?"
   ]
  },
  {
   "cell_type": "code",
   "execution_count": null,
   "id": "21f66fef-de3e-4f8c-a0c4-ab238d517706",
   "metadata": {},
   "outputs": [],
   "source": []
  }
 ],
 "metadata": {
  "kernelspec": {
   "display_name": "Python 3 (ipykernel)",
   "language": "python",
   "name": "python3"
  },
  "language_info": {
   "codemirror_mode": {
    "name": "ipython",
    "version": 3
   },
   "file_extension": ".py",
   "mimetype": "text/x-python",
   "name": "python",
   "nbconvert_exporter": "python",
   "pygments_lexer": "ipython3",
   "version": "3.9.18"
  }
 },
 "nbformat": 4,
 "nbformat_minor": 5
}
