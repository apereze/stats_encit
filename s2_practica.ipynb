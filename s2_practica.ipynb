{
 "cells": [
  {
   "cell_type": "markdown",
   "id": "ad225189",
   "metadata": {},
   "source": [
    "## ¿Qué son los Jupyter Notebooks?\n",
    "\n",
    "[Jupyter](https://jupyter.org/) es un entorno de desarrollo interactivo basado en la web que soporta múltiples lenguajes de programación. Se utiliza comúnmente como un \"IDE\" (Entorno de Desarrollo Integrado) para el lenguaje de programación Python, especialmente cuando se realiza ciencia de datos. El entorno interactivo que proporciona Jupyter permite a los investigadores crear análisis reproducibles y formular una historia a partir de los datos dentro de un solo documento.\n",
    "\n",
    "[Aquí](http://nbviewer.jupyter.org/github/cossatot/lanf_earthquake_likelihood/blob/master/notebooks/lanf_manuscript_notebook.ipynb) hay un ejemplo de un Jupyter Notebook completado de una investigación científica que incluye un amplio código, matemáticas, gráficos y texto.\n",
    "\n",
    "Concretamente, un Jupyter notebook es un archivo con la extensión \".ipynb\". Puedes descargar y compartir estos archivos para compartir tu trabajo.\n",
    "\n",
    "### ¿Cómo funciona?\n",
    "\n",
    "Jupyter es una interfaz que se ejecuta en un navegador web. El código que escribes en un Jupyter notebook no se ejecuta en el navegador, en su lugar, Jupyter se conecta a una sesión de Python que puede estar ejecutándose en tu computadora, o en algún lugar de la nube. En este curso, usarás Jupyter notebooks que interfazan con sesiones de Python que se ejecutan en la nube de Coursera.\n",
    "\n",
    "### La estructura de un Jupyter notebook\n",
    "\n",
    "Un Jupyter notebook es una serie de \"celdas\". Cada celda en un Jupyter notebook es una \"celda de código\" o una \"celda de Markdown\". En la barra de herramientas verás un desplegable que te permite cambiar el tipo de celda. Para esta serie de cursos, el código será siempre código Python. El contenido de las celdas de \"Markdown\" se ingresa como texto simple, opcionalmente formateado usando Markdown como se explica más adelante.\n",
    "\n",
    "Haz doble clic en una celda para editar su contenido. Luego presiona shift-enter para que las celdas de Markdown se rendericen, y las celdas de código se ejecuten.\n",
    "\n",
    "Después de ejecutar una celda, todo lo que sea explícitamente impreso por tu código se mostrará debajo de la celda. El resultado de la última línea de código en una celda siempre se imprimirá, a menos que la línea termine con un punto y coma. Si tu código genera algún gráfico, se mostrará debajo de la celda.\n",
    "\n",
    "### Flujo del programa\n",
    "\n",
    "En un Jupyter notebook probablemente organizarás tu código en múltiples celdas. Estas celdas se ejecutan en la misma sesión subyacente de Python y pueden acceder a los resultados de los cálculos de otras celdas. Nota que es posible ejecutar las celdas en cualquier orden (presionando shift-enter en las celdas en alguna secuencia). Sin embargo, hacer esto puede ser bastante peligroso ya que los resultados pueden depender del orden en que se ejecuten las celdas. Se recomienda encarecidamente ejecutar siempre las celdas en orden, comenzando desde la primera celda, a menos que estés seguro de que no hay dependencias entre las celdas. El menú \"Cell\" en la barra de herramientas contiene una opción para \"Run All\" celdas, que es la forma más segura de producir un resultado reproducible.\n",
    "\n",
    "El número junto a cada celda de código indica el orden en que las celdas fueron ejecutadas. Una celda que aún no se ha ejecutado no tendrá un número asignado, y una celda que se esté ejecutando actualmente tendrá un asterisco (*) en lugar de un número."
   ]
  },
  {
   "cell_type": "markdown",
   "id": "d8a4f9da",
   "metadata": {},
   "source": [
    "## Algunos ejemplos simples de ejecución de celdas"
   ]
  },
  {
   "cell_type": "code",
   "execution_count": 2,
   "id": "d23a5c92",
   "metadata": {},
   "outputs": [
    {
     "ename": "NameError",
     "evalue": "name 'prin' is not defined",
     "output_type": "error",
     "traceback": [
      "\u001b[1;31m---------------------------------------------------------------------------\u001b[0m",
      "\u001b[1;31mNameError\u001b[0m                                 Traceback (most recent call last)",
      "Cell \u001b[1;32mIn[2], line 2\u001b[0m\n\u001b[0;32m      1\u001b[0m \u001b[38;5;66;03m# Esto es una celda de python \u001b[39;00m\n\u001b[1;32m----> 2\u001b[0m \u001b[43mprin\u001b[49m(\u001b[38;5;124m\"\u001b[39m\u001b[38;5;124mThis is a python code cell\u001b[39m\u001b[38;5;124m\"\u001b[39m)\n",
      "\u001b[1;31mNameError\u001b[0m: name 'prin' is not defined"
     ]
    }
   ],
   "source": [
    "# Esto es una celda de python \n",
    "prin(\"This is a python code cell\")"
   ]
  },
  {
   "cell_type": "code",
   "execution_count": 3,
   "id": "01257929",
   "metadata": {},
   "outputs": [
    {
     "data": {
      "text/plain": [
       "4"
      ]
     },
     "execution_count": 3,
     "metadata": {},
     "output_type": "execute_result"
    }
   ],
   "source": [
    "# Todas las líneas de código se ejecutan, pero solo se muestran los resultados de la última línea.\n",
    "1+2\n",
    "1+3"
   ]
  },
  {
   "cell_type": "code",
   "execution_count": 4,
   "id": "ba738a24",
   "metadata": {},
   "outputs": [
    {
     "name": "stdout",
     "output_type": "stream",
     "text": [
      "3\n"
     ]
    },
    {
     "data": {
      "text/plain": [
       "4"
      ]
     },
     "execution_count": 4,
     "metadata": {},
     "output_type": "execute_result"
    }
   ],
   "source": [
    "# Para mostrar el resultado de una línea que no es la última, utiliza `print`.\n",
    "print(1+2)\n",
    "1+3"
   ]
  },
  {
   "cell_type": "code",
   "execution_count": 5,
   "id": "847c0cee",
   "metadata": {},
   "outputs": [],
   "source": [
    "# Para suprimir la visualización de la última línea de código, utiliza un punto y coma.\n",
    "1+2\n",
    "1+3;"
   ]
  },
  {
   "cell_type": "code",
   "execution_count": 6,
   "id": "d4b55450",
   "metadata": {},
   "outputs": [
    {
     "name": "stdout",
     "output_type": "stream",
     "text": [
      "x has been set to 1738\n"
     ]
    }
   ],
   "source": [
    "### Las variables globales inicializadas en una celda son visibles en cualquier celda que se ejecute posteriormente.\n",
    "\n",
    "x = 1738\n",
    "\n",
    "print(\"x has been set to \" + str(x))"
   ]
  },
  {
   "cell_type": "code",
   "execution_count": 7,
   "id": "1e2266de",
   "metadata": {},
   "outputs": [
    {
     "name": "stdout",
     "output_type": "stream",
     "text": [
      "1738\n"
     ]
    }
   ],
   "source": [
    "### Print x\n",
    "\n",
    "print(x)"
   ]
  },
  {
   "cell_type": "markdown",
   "id": "42039317",
   "metadata": {},
   "source": [
    "# Bibliotecas de Python y una introducción a la manipulación de datos\n",
    "\n",
    "El lenguaje central de Python es, por diseño, algo minimalista. Como otros lenguajes de programación, Python tiene un ecosistema de módulos (bibliotecas de código) que amplían el lenguaje base. Algunas de estas bibliotecas son \"estándar\", lo que significa que están incluidas en tu distribución de Python. Muchas otras bibliotecas de código abierto se pueden obtener de las organizaciones que apoyan su desarrollo.\n",
    "\n",
    "Piensa en una biblioteca como una colección de funciones y tipos de datos que se pueden acceder para completar ciertas tareas de programación sin tener que implementar todo desde cero.\n",
    "\n",
    "Este curso hará un uso extensivo de las siguientes bibliotecas:\n",
    "\n",
    "* **[Numpy](http://numpy.org)** es una biblioteca para trabajar con arreglos de datos.\n",
    "\n",
    "* **[Pandas](http://pandas.pydata.org)** proporciona estructuras de datos de alto rendimiento y herramientas de análisis de datos fáciles de usar.\n",
    "\n",
    "* **[Scipy](http://scipy.org)** es una biblioteca de técnicas para el cálculo numérico y científico.\n",
    "\n",
    "* **[Matplotlib](http://matplotlib.org)** es una biblioteca para crear gráficos.\n",
    "\n",
    "* **[Seaborn](http://seaborn.pydata.org)** es una interfaz de nivel superior para Matplotlib que puede simplificar muchas tareas de creación de gráficos.\n",
    "\n",
    "* **[Statsmodels](http://www.statsmodels.org)** es una biblioteca que implementa muchas técnicas estadísticas.\n",
    "\n",
    "Este notebook introduce las bibliotecas Pandas y Numpy, que se utilizan para manipular conjuntos de datos. La próxima semana daremos una visión general de las bibliotecas Matplotlib y Seaborn, que se utilizan para producir gráficos. El paquete Statsmodels se utilizará en el segundo y tercer curso de la serie que introduce el análisis estadístico formal y la modelización.\n",
    "\n",
    "# Documentación\n",
    "\n",
    "Ningún científico de datos o ingeniero de software memoriza todas las características de cada herramienta de software que utilizan. Los científicos de datos eficaces aprovechan los recursos (principalmente en línea) para resolver los desafíos que encuentran al desarrollar código y analizar datos. La documentación es el recurso oficial y autorizado para cualquier lenguaje de programación o biblioteca. Aquí están los enlaces a la documentación oficial del [lenguaje Python](https://docs.python.org/3/) y de la [Biblioteca Estándar de Python](https://docs.python.org/3/library/index.html#library-index)."
   ]
  },
  {
   "cell_type": "markdown",
   "id": "ea435a75",
   "metadata": {},
   "source": [
    "### Importación de bibliotecas\n",
    "\n",
    "Cuando utilizas Python, generalmente comienzas tus scripts importando las bibliotecas que vas a utilizar.\n",
    "\n",
    "Las siguientes instrucciones importan las bibliotecas Numpy y Pandas, asignándoles nombres abreviados:"
   ]
  },
  {
   "cell_type": "code",
   "execution_count": 9,
   "id": "f19d6e91",
   "metadata": {},
   "outputs": [],
   "source": [
    "import numpy as np\n",
    "import pandas as pd"
   ]
  },
  {
   "cell_type": "code",
   "execution_count": 8,
   "id": "2a526bce-a455-4d37-bad0-6878a8b888f1",
   "metadata": {},
   "outputs": [
    {
     "name": "stdout",
     "output_type": "stream",
     "text": [
      "Requirement already satisfied: numpy in c:\\users\\adolf\\miniconda3\\envs\\ml_project\\lib\\site-packages (1.26.4)\n"
     ]
    }
   ],
   "source": [
    "! pip install numpy"
   ]
  },
  {
   "cell_type": "markdown",
   "id": "96b87cbb",
   "metadata": {},
   "source": [
    "### Utilización de funciones de bibliotecas\n",
    "\n",
    "Después de importar una biblioteca, sus funciones pueden ser llamadas desde tu código anteponiendo el nombre de la biblioteca al nombre de la función. Por ejemplo, para usar la función '`dot`' de la biblioteca '`numpy`', escribirías '`numpy.dot`'. Para evitar tener que escribir repetidamente el nombre de la biblioteca en tus scripts, es común definir una abreviatura de dos o tres letras para cada biblioteca; por ejemplo, '`numpy`' se abrevia generalmente como '`np`'. Esto nos permite usar '`np.dot`' en lugar de '`numpy.dot`'. De manera similar, la biblioteca Pandas se abrevia típicamente como '`pd`'."
   ]
  },
  {
   "cell_type": "markdown",
   "id": "c248fb59",
   "metadata": {},
   "source": [
    "La siguiente celda muestra cómo llamar a funciones de una biblioteca importada:"
   ]
  },
  {
   "cell_type": "code",
   "execution_count": 10,
   "id": "cf9e822a",
   "metadata": {},
   "outputs": [
    {
     "data": {
      "text/plain": [
       "5.0"
      ]
     },
     "execution_count": 10,
     "metadata": {},
     "output_type": "execute_result"
    }
   ],
   "source": [
    "a = np.array([0,1,2,3,4,5,6,7,8,9,10]) \n",
    "np.mean(a)"
   ]
  },
  {
   "cell_type": "code",
   "execution_count": 11,
   "id": "1918d719-ed2c-4d39-b360-7772d931b24c",
   "metadata": {},
   "outputs": [
    {
     "data": {
      "text/plain": [
       "array([ 0,  1,  2,  3,  4,  5,  6,  7,  8,  9, 10])"
      ]
     },
     "execution_count": 11,
     "metadata": {},
     "output_type": "execute_result"
    }
   ],
   "source": [
    "a"
   ]
  },
  {
   "cell_type": "markdown",
   "id": "dc51cf66",
   "metadata": {},
   "source": [
    "Como puedes ver, primero usamos la función `array` de la biblioteca numpy para crear un array unidimensional literal, y luego utilizamos la función `mean` de la biblioteca para calcular su valor promedio (esto se llama un array \"literal\" porque los datos se ingresan directamente en el notebook)."
   ]
  },
  {
   "cell_type": "markdown",
   "id": "891e052a",
   "metadata": {},
   "source": [
    "## NumPy\n",
    "\n",
    "NumPy es un paquete fundamental para la computación científica con Python. Incluye tipos de datos para vectores, matrices y arrays de orden superior (tensores), así como muchas funciones matemáticas comúnmente usadas, como logaritmos.\n",
    "\n",
    "#### Arrays de Numpy (ndarray)\n",
    "\n",
    "Nos interesa principalmente el objeto [ndarray](https://numpy.org/doc/stable/reference/generated/numpy.ndarray.html), que es un array n-dimensional de valores, y los métodos que nos permiten manipular tales arrays. Recuerda que una lista de Python puede contener valores de diferentes tipos, por ejemplo, [1, \"pig\", [3.2, 4.5]] es una lista de Python que contiene tres elementos: un entero, una cadena y otra lista que a su vez contiene dos valores de punto flotante. Las listas que contienen tipos heterogéneos son convenientes, pero no son eficientes para la computación numérica a gran escala. El ndarray de numpy es un array homogéneo que puede tener cualquier número de ejes. Dado que es homogéneo, todos los valores en un ndarray deben tener el mismo tipo de datos (por ejemplo, todos los valores son enteros o todos son números de punto flotante).\n",
    "\n",
    "Un array de numpy es una tabla de valores que puede tener cualquier número de \"ejes\". Un array unidimensional de numpy tiene un solo eje y es algo análogo a una lista de Python o a un vector matemático. Un array bidimensional de numpy tiene dos ejes y puede verse como una tabla o matriz. Los arrays de orden superior (tensores) pueden ser útiles en casos específicos, pero no se encuentran con tanta frecuencia. Como se mencionó anteriormente, todos los valores en un array de Numpy tienen el mismo tipo de datos. Los arrays de Numpy se indexan mediante una secuencia de posiciones enteras basadas en cero, es decir, `x[0]` es el primer elemento del array unidimensional `x`. El número de ejes (dimensiones) es el rango del array; la forma de un array es una tupla de enteros que da el tamaño del array a lo largo de cada dimensión.\n",
    "\n",
    "A continuación se muestran algunas expresiones de una sola línea que ilustran el uso básico de Numpy."
   ]
  },
  {
   "cell_type": "code",
   "execution_count": 12,
   "id": "4d1873ea",
   "metadata": {},
   "outputs": [
    {
     "name": "stdout",
     "output_type": "stream",
     "text": [
      "type(a) = <class 'numpy.ndarray'>\n",
      "\n",
      "a.shape = (3,)\n",
      "\n",
      "Values in a:  1 2 3\n",
      "\n",
      "b.shape = (2, 2)\n",
      "\n",
      "Values in b:  1 2 4\n",
      "\n",
      "c.shape = (3, 2)\n",
      "\n",
      "Values in c:  2 3 5 6\n"
     ]
    }
   ],
   "source": [
    "### Create a rank-1 numpy array with 1 axes of length 3.\n",
    "a = np.array([1, 2, 3])\n",
    "\n",
    "### Print object type\n",
    "print(\"type(a) =\", type(a))\n",
    "\n",
    "### Print shape\n",
    "print(\"\\na.shape =\", a.shape)\n",
    "\n",
    "### Print some values in a\n",
    "print(\"\\nValues in a: \", a[0], a[1], a[2])\n",
    "\n",
    "### Create a 2x2 numpy array\n",
    "b = np.array([[1, 2], [3, 4]])\n",
    "\n",
    "### Print shape\n",
    "print(\"\\nb.shape =\", b.shape)\n",
    "\n",
    "## Print some values in b\n",
    "print(\"\\nValues in b: \", b[0, 0], b[0, 1], b[1, 1])\n",
    "\n",
    "### Create a 3x2 numpy array\n",
    "c = np.array([[1, 2], [3, 4], [5, 6]])\n",
    "\n",
    "### Print shape\n",
    "print(\"\\nc.shape =\", c.shape)\n",
    "\n",
    "### Print some values in c\n",
    "print(\"\\nValues in c: \", c[0, 1], c[1, 0], c[2, 0], c[2, 1])"
   ]
  },
  {
   "cell_type": "code",
   "execution_count": 13,
   "id": "35fd7f25",
   "metadata": {},
   "outputs": [
    {
     "name": "stdout",
     "output_type": "stream",
     "text": [
      "d =\n",
      " [[0. 0. 0.]\n",
      " [0. 0. 0.]]\n",
      "\n",
      "e =\n",
      " [[1. 1.]\n",
      " [1. 1.]\n",
      " [1. 1.]\n",
      " [1. 1.]]\n",
      "\n",
      "f =\n",
      " [[9 9]\n",
      " [9 9]]\n",
      "\n",
      "g =\n",
      " [[0.92720539 0.8233552  0.32037326]\n",
      " [0.81553929 0.47013903 0.77588836]\n",
      " [0.94347983 0.41827812 0.01896619]]\n",
      "\n",
      "h =\n",
      " [[2.12199579e-314 4.67296746e-307]\n",
      " [8.08291397e-321 3.79442416e-321]]\n"
     ]
    }
   ],
   "source": [
    "### 2x3 array containing zeros \n",
    "d = np.zeros((2, 3))\n",
    "print(\"d =\\n\", d)\n",
    "\n",
    "### 4x2 array of ones\n",
    "e = np.ones((4, 2))\n",
    "print(\"\\ne =\\n\", e)\n",
    "\n",
    "### 2x2 constant array\n",
    "f = np.full((2, 2), 9)\n",
    "print(\"\\nf =\\n\", f)\n",
    "\n",
    "### 3x3 random array\n",
    "g = np.random.random((3, 3))\n",
    "print(\"\\ng =\\n\", g)\n",
    "\n",
    "### 2x2 array with uninitialized values\n",
    "h = np.empty((2, 2))\n",
    "print(\"\\nh =\\n\", h)"
   ]
  },
  {
   "cell_type": "markdown",
   "id": "4b555ee1",
   "metadata": {},
   "source": [
    "#### Indexación de Arrays y Alias\n",
    "\n",
    "Es importante tener en cuenta que los arrays en Python pueden compartir memoria, en cuyo caso cambiar los valores en un array puede alterar los valores en otro array."
   ]
  },
  {
   "cell_type": "code",
   "execution_count": 14,
   "id": "b58967e8",
   "metadata": {},
   "outputs": [
    {
     "name": "stdout",
     "output_type": "stream",
     "text": [
      "h=\n",
      " [[ 1  2  3  4]\n",
      " [ 5  6  7  8]\n",
      " [ 9 10 11 12]]\n",
      "\n",
      "i=\n",
      " [[2 3]\n",
      " [6 7]]\n",
      "\n",
      "h[0, 1] = 2\n",
      "\n",
      "h[0, 1] = 1738\n"
     ]
    }
   ],
   "source": [
    "### Create 3x4 array\n",
    "h = np.array([[1, 2, 3, 4], [5, 6, 7, 8], [9, 10, 11, 12]])\n",
    "\n",
    "print(\"h=\\n\", h)\n",
    "\n",
    "### Slice array to make a 2x2 sub-array\n",
    "i = h[:2, 1:3]\n",
    "\n",
    "print(\"\\ni=\\n\", i)\n",
    "\n",
    "print(\"\\nh[0, 1] =\", h[0, 1])\n",
    "\n",
    "### Modify the slice\n",
    "i[0, 0] = 1738\n",
    "\n",
    "### Print to show how modifying the slice also changes the base object\n",
    "print(\"\\nh[0, 1] =\", h[0, 1])"
   ]
  },
  {
   "cell_type": "markdown",
   "id": "549b897c",
   "metadata": {},
   "source": [
    "Si deseas asegurarte de que dos arrays no compartan memoria, utiliza el método `copy`:"
   ]
  },
  {
   "cell_type": "code",
   "execution_count": null,
   "id": "e1b644df",
   "metadata": {},
   "outputs": [],
   "source": [
    "h = np.zeros((3, 3))\n",
    "i = h[0:2, 0:2].copy()\n",
    "h[0, 0] = 99\n",
    "print(\"h =\\n\", h)\n",
    "print(\"\\ni =\\n\", i)"
   ]
  },
  {
   "cell_type": "markdown",
   "id": "5c6b4aec",
   "metadata": {},
   "source": [
    "#### Aritmética de Arrays\n",
    "\n",
    "Las funciones matemáticas básicas operan elemento por elemento en los arrays y están disponibles tanto mediante símbolos de operadores (+, -, etc.) como a través de funciones en el módulo numpy:"
   ]
  },
  {
   "cell_type": "code",
   "execution_count": null,
   "id": "6c63a963",
   "metadata": {},
   "outputs": [],
   "source": [
    "x = np.array([[1, 2],[3, 4]], dtype=np.float64)\n",
    "y = np.array([[5, 6],[7, 8]], dtype=np.float64)\n",
    "\n",
    "# Elementwise sum; both produce the array\n",
    "# [[ 6.0  8.0]\n",
    "#  [10.0 12.0]]\n",
    "print(\"x + y =\\n\", x + y)\n",
    "print(np.add(x, y))\n",
    "\n",
    "# Elementwise difference; both produce the array\n",
    "# [[-4.0 -4.0]\n",
    "#  [-4.0 -4.0]]\n",
    "print(\"\\nx - y =\\n\", x - y)\n",
    "print(np.subtract(x, y))\n",
    "\n",
    "# Elementwise product; both produce the array\n",
    "# [[ 5.0 12.0]\n",
    "#  [21.0 32.0]]\n",
    "print(\"\\nx * y =\\n\", x * y)\n",
    "print(np.multiply(x, y))\n",
    "\n",
    "# Elementwise division; both produce the array\n",
    "# [[ 0.2         0.33333333]\n",
    "#  [ 0.42857143  0.5       ]]\n",
    "print(\"\\nx / y =\\n\", x / y)\n",
    "print(np.divide(x, y))\n",
    "\n",
    "# Elementwise square root; produces the array\n",
    "# [[ 1.          1.41421356]\n",
    "#  [ 1.73205081  2.        ]]\n",
    "print(\"\\nsqrt(x) =\\n\", np.sqrt(x))"
   ]
  },
  {
   "cell_type": "code",
   "execution_count": null,
   "id": "6a3f00ca",
   "metadata": {},
   "outputs": [],
   "source": [
    "x = np.array([[1,2],[3,4]])\n",
    "print(\"x =\\n\", x)\n",
    "\n",
    "### Compute sum of all elements; prints \"10\"\n",
    "print(\"\\nsum(x) =\", np.sum(x))\n",
    "\n",
    "### Compute sum of each column; prints \"[4 6]\"\n",
    "print(\"sum(x, axis=0) =\", np.sum(x, axis=0)) \n",
    "\n",
    "### Compute sum of each row; prints \"[3 7]\"\n",
    "print(\"sum(x, axis=1) =\", np.sum(x, axis=1))"
   ]
  },
  {
   "cell_type": "code",
   "execution_count": null,
   "id": "a40d730d",
   "metadata": {},
   "outputs": [],
   "source": [
    "x = np.array([[1,2],[3,4]])\n",
    "print(\"x =\\n\", x)\n",
    "\n",
    "### Compute mean of all elements; prints \"2.5\"\n",
    "print(\"\\nmean(x) =\", np.mean(x))\n",
    "\n",
    "### Compute mean of each column; prints \"[2 3]\"\n",
    "print(\"mean(x, axis=0) =\", np.mean(x, axis=0)) \n",
    "\n",
    "### Compute mean of each row; prints \"[1.5 3.5]\"\n",
    "print(\"mean(x, axis=1) =\", np.mean(x, axis=1))"
   ]
  },
  {
   "cell_type": "markdown",
   "id": "0c1196a9",
   "metadata": {},
   "source": [
    "# Gestión de Datos con Pandas\n",
    "\n",
    "Numpy es útil para cálculos matemáticos en los que todo es un número. En ciencia de datos, a menudo tratamos con datos heterogéneos que incluyen números, texto y valores de tiempo. Pandas es una biblioteca que proporciona funcionalidad para trabajar con el tipo de datos que surge frecuentemente en la ciencia de datos del mundo real. Pandas ofrece funcionalidades para manipular datos (por ejemplo, transformar valores y seleccionar subconjuntos), resumir datos, leer datos de y hacia archivos, entre muchas otras tareas.\n",
    "\n",
    "La estructura de datos principal con la que trabaja Pandas se llama [DataFrame](https://pandas.pydata.org/docs/reference/api/pandas.DataFrame.html). Este es una tabla bidimensional de datos en la que las filas representan típicamente casos u observaciones (por ejemplo, Participantes en el Concurso de Cartwheels), y las columnas representan variables. Pandas también tiene una estructura de datos unidimensional llamada [Series](https://pandas.pydata.org/docs/reference/api/pandas.Series.html) que encontraremos al acceder a una sola columna de un DataFrame.\n",
    "\n",
    "Pandas tiene una variedad de funciones llamadas '`read_xxx`' para leer datos en diferentes formatos desde fuentes \"estáticas\" como archivos. En este momento nos enfocaremos en leer archivos '`csv`', donde \"csv\" significa \"valores separados por comas\". Un archivo csv es muy similar a una hoja de cálculo, pero se almacena en formato de texto, utilizando comas para \"delimitar\" los valores en una fila dada. Otros formatos de archivo importantes incluyen excel, json y sql, por mencionar algunos.\n",
    "\n",
    "Existen muchas otras opciones para '`read_csv`' que son muy útiles. Por ejemplo, usarías la opción `sep='\\t'` en lugar del `sep=','` por defecto si los campos de tu archivo de datos están delimitados por tabulaciones en lugar de comas. Consulta [aquí](https://pandas.pydata.org/pandas-docs/stable/generated/pandas.read_csv.html) la documentación completa para '`read_csv`'."
   ]
  },
  {
   "cell_type": "code",
   "execution_count": null,
   "id": "f872d81a",
   "metadata": {},
   "outputs": [],
   "source": [
    "# The file name string that holds our .csv file\n",
    "fname = \"Cartwheeldata.csv\"\n",
    "\n",
    "# Read the .csv file and store it as a Pandas Data Frame\n",
    "df = pd.read_csv(fname)\n",
    "\n",
    "# Print the object type\n",
    "type(df)"
   ]
  },
  {
   "cell_type": "markdown",
   "id": "7e2d764a",
   "metadata": {},
   "source": [
    "Podemos ver las primeras filas de nuestro DataFrame llamando al método `head()`."
   ]
  },
  {
   "cell_type": "code",
   "execution_count": null,
   "id": "735bddc6",
   "metadata": {},
   "outputs": [],
   "source": [
    "df.head()"
   ]
  },
  {
   "cell_type": "markdown",
   "id": "64b57c61",
   "metadata": {},
   "source": [
    "El método `head()` simplemente muestra las primeras 5 filas de nuestro DataFrame. Si deseas ver, por ejemplo, las primeras 10 filas de datos, pasarías '10' como argumento al método `head`:\n",
    "\n",
    "```python\n",
    "data_frame.head(10)\n",
    "```"
   ]
  },
  {
   "cell_type": "code",
   "execution_count": null,
   "id": "2d264c7f",
   "metadata": {},
   "outputs": [],
   "source": [
    "df.head(10)"
   ]
  },
  {
   "cell_type": "markdown",
   "id": "98dce2f5",
   "metadata": {},
   "source": [
    "Como puedes ver, tenemos una tabla bidimensional de valores, donde cada fila es una observación en nuestros datos de cartwheels, y cada columna es una variable que describe alguna característica de los participantes.\n",
    "\n",
    "Para ver los nombres de las columnas, accede al atributo `columns` del DataFrame:\n",
    "\n",
    "```python\n",
    "data_frame.columns\n",
    "```"
   ]
  },
  {
   "cell_type": "code",
   "execution_count": null,
   "id": "4ba75c29",
   "metadata": {},
   "outputs": [],
   "source": [
    "df.columns"
   ]
  },
  {
   "cell_type": "markdown",
   "id": "f7ad8458",
   "metadata": {},
   "source": [
    "En un DataFrame, cada columna tiene un único tipo, pero diferentes columnas pueden tener tipos distintos. Esto es importante ya que los conjuntos de datos en el mundo real contienen variables que pueden tener tipos diferentes, pero dentro de una variable, todas las observaciones deben tener el mismo tipo. Accede al atributo `dtypes` del DataFrame para ver el tipo de datos de cada columna:\n",
    "\n",
    "```python\n",
    "data_frame.dtypes\n",
    "```"
   ]
  },
  {
   "cell_type": "code",
   "execution_count": null,
   "id": "66bf8d26",
   "metadata": {},
   "outputs": [],
   "source": [
    "df.dtypes"
   ]
  },
  {
   "cell_type": "markdown",
   "id": "63073015",
   "metadata": {},
   "source": [
    "### Cortar DataFrames\n",
    "\n",
    "Al igual que cualquier tabla, las filas y columnas de un DataFrame de Pandas pueden referirse por posición. Dado que Python siempre cuenta desde 0, las filas y columnas están numeradas como 0, 1, 2, etc.\n",
    "\n",
    "Los DataFrames de Pandas también tienen \"índices\" de filas y columnas que pueden ser más naturales de usar que las posiciones numéricas en muchos casos. Por ejemplo, si nuestro DataFrame contiene información sobre personas, podríamos tener una columna llamada \"Edad\". Aunque podemos saber que la columna de edad está en la posición 3 (la cuarta columna debido a la indexación basada en cero), generalmente es preferible acceder a esta columna por su nombre (\"Edad\") en lugar de por su posición (3). Una razón para esto es que en algún momento podríamos manipular el DataFrame de tal manera que las posiciones de las columnas cambien.\n",
    "\n",
    "Los valores de índice predeterminados son simplemente las posiciones. En muchos casos no reemplazamos los índices de filas predeterminados por otro índice, por lo que no hay una diferencia significativa entre las operaciones de fila basadas en etiquetas y basadas en posiciones. Pero la mayoría de los conjuntos de datos tienen nombres de columnas informativos, por lo que es poco común encontrar un DataFrame que utilice los índices de columna predeterminados.\n",
    "\n",
    "Las formas más comunes de indexar y seleccionar valores de DataFrames de Pandas son bastante sencillas, pero también existen muchas técnicas de indexación avanzadas. Consulta [aquí](https://pandas.pydata.org/docs/user_guide/indexing.html) para una explicación más completa de este tema.\n",
    "\n",
    "Existen tres formas principales de \"cortar\" un DataFrame:\n",
    "\n",
    "1. `.loc()` -- seleccionar basado en valores de índice\n",
    "2. `.iloc()` -- seleccionar basado en posiciones\n",
    "3. `.ix()`\n",
    "\n",
    "Aquí cubriremos las funciones de corte `.loc()` y `.iloc()`.\n",
    "\n",
    "### Indexación con .loc()\n",
    "\n",
    "El método `.loc()` para un DataFrame toma dos valores de indexación separados por una coma. El primer valor de indexación selecciona las filas y el segundo valor de indexación selecciona las columnas. Un valor de indexación puede ser un único valor de índice, un rango de valores de índice o una lista que contenga uno o más valores de índice. A continuación, proporcionamos ejemplos para cubrir algunos de los casos de uso más comunes:"
   ]
  },
  {
   "cell_type": "code",
   "execution_count": null,
   "id": "508c853e",
   "metadata": {},
   "outputs": [],
   "source": [
    "# Return all observations of the variable CWDistance\n",
    "df.loc[:,\"CWDistance\"]"
   ]
  },
  {
   "cell_type": "markdown",
   "id": "7ecc95c6",
   "metadata": {},
   "source": [
    "La siguiente sintaxis es equivalente a la que utilizamos anteriormente:"
   ]
  },
  {
   "cell_type": "code",
   "execution_count": null,
   "id": "75388546",
   "metadata": {},
   "outputs": [],
   "source": [
    "df[\"CWDistance\"]"
   ]
  },
  {
   "cell_type": "markdown",
   "id": "0903929d",
   "metadata": {},
   "source": [
    "La siguiente sintaxis también es equivalente a los dos ejemplos anteriores, pero es algo menos preferida (en casos raros, el uso de esta sintaxis puede provocar conflictos entre los nombres de los métodos y los nombres de las variables, y esta sintaxis no funciona si tienes nombres de variables que incluyan espacios en blanco o símbolos de puntuación)."
   ]
  },
  {
   "cell_type": "code",
   "execution_count": null,
   "id": "2112f80b",
   "metadata": {},
   "outputs": [],
   "source": [
    "df.CWDistance"
   ]
  },
  {
   "cell_type": "markdown",
   "id": "054793ab",
   "metadata": {},
   "source": [
    "En el siguiente ejemplo, seleccionamos todas las filas para múltiples columnas, [\"CWDistance\", \"Height\", \"Wingspan\"]:"
   ]
  },
  {
   "cell_type": "code",
   "execution_count": null,
   "id": "d2fa0be6",
   "metadata": {},
   "outputs": [],
   "source": [
    "df.loc[:,[\"CWDistance\", \"Height\", \"Wingspan\"]]"
   ]
  },
  {
   "cell_type": "markdown",
   "id": "ddf580b1",
   "metadata": {},
   "source": [
    "La sintaxis a continuación es equivalente:"
   ]
  },
  {
   "cell_type": "code",
   "execution_count": null,
   "id": "9da1bef8",
   "metadata": {},
   "outputs": [],
   "source": [
    "df[[\"CWDistance\", \"Height\", \"Wingspan\"]]"
   ]
  },
  {
   "cell_type": "markdown",
   "id": "13c23721",
   "metadata": {},
   "source": [
    "En el siguiente ejemplo, seleccionamos un rango limitado de filas para múltiples columnas, [\"CWDistance\", \"Height\", \"Wingspan\"]. Nota que estamos utilizando los valores de índice de fila predeterminados, que coinciden con las posiciones de las filas."
   ]
  },
  {
   "cell_type": "code",
   "execution_count": null,
   "id": "a7feee9c",
   "metadata": {},
   "outputs": [],
   "source": [
    "df.loc[:9, [\"CWDistance\", \"Height\", \"Wingspan\"]]"
   ]
  },
  {
   "cell_type": "markdown",
   "id": "33b96aee",
   "metadata": {},
   "source": [
    "A continuación seleccionamos un rango limitado de filas para todas las columnas:"
   ]
  },
  {
   "cell_type": "code",
   "execution_count": null,
   "id": "2eab2040",
   "metadata": {},
   "outputs": [],
   "source": [
    "df.loc[10:15]"
   ]
  },
  {
   "cell_type": "markdown",
   "id": "694d3c25",
   "metadata": {},
   "source": [
    "La función `.loc()` requiere dos argumentos: los índices de las filas y los nombres de las columnas que deseas observar.\n",
    "\n",
    "En el caso anterior, `:` especifica todas las filas, y nuestra columna es `CWDistance`. Entonces, se usaría `df.loc[:, \"CWDistance\"]`."
   ]
  },
  {
   "cell_type": "markdown",
   "id": "dba66b83",
   "metadata": {},
   "source": [
    "Ahora, supongamos que solo queremos devolver las primeras 10 observaciones:"
   ]
  },
  {
   "cell_type": "code",
   "execution_count": null,
   "id": "bc8548a9",
   "metadata": {},
   "outputs": [],
   "source": [
    "df.loc[:9, \"CWDistance\"]"
   ]
  },
  {
   "cell_type": "markdown",
   "id": "1cf23ad5",
   "metadata": {},
   "source": [
    "### Indexación con .iloc()\n",
    "\n",
    "El método `.iloc()` se utiliza para el corte basado en posiciones. Recuerda que Python usa indexación basada en cero, por lo que el primer valor está en la posición cero. Aquí tienes algunos ejemplos:"
   ]
  },
  {
   "cell_type": "code",
   "execution_count": null,
   "id": "015e1ab1",
   "metadata": {},
   "outputs": [],
   "source": [
    "df.iloc[:4]"
   ]
  },
  {
   "cell_type": "code",
   "execution_count": null,
   "id": "7b6ef7bb",
   "metadata": {},
   "outputs": [],
   "source": [
    "df.iloc[1:5, 2:4]"
   ]
  },
  {
   "cell_type": "markdown",
   "id": "690699fa",
   "metadata": {},
   "source": [
    "En el siguiente ejemplo, combinamos el corte basado en posiciones en las filas y la indexación basada en etiquetas en las columnas:\n"
   ]
  },
  {
   "cell_type": "code",
   "execution_count": null,
   "id": "ca528dff",
   "metadata": {},
   "outputs": [],
   "source": [
    "df.iloc[1:5, :][[\"Gender\", \"GenderGroup\"]]\n"
   ]
  },
  {
   "cell_type": "markdown",
   "id": "345c722c",
   "metadata": {},
   "source": [
    "Podemos ver los tipos de datos de las columnas de nuestro DataFrame visualizando el atributo `.dtypes` de nuestro DataFrame:"
   ]
  },
  {
   "cell_type": "code",
   "execution_count": null,
   "id": "07182eb6",
   "metadata": {},
   "outputs": [],
   "source": [
    "df.dtypes"
   ]
  },
  {
   "cell_type": "markdown",
   "id": "a3691e19",
   "metadata": {},
   "source": [
    "El resultado indica que tenemos enteros, flotantes y objetos en nuestro DataFrame. Una variable con el tipo de dato \"object\" a menudo contiene cadenas de texto, pero en algunos casos puede contener otros valores que están \"envueltos\" como valores de Python.\n",
    "\n",
    "También podríamos querer observar los diferentes valores únicos dentro de una columna específica. Vamos a hacer esto para la variable `Gender`:"
   ]
  },
  {
   "cell_type": "code",
   "execution_count": null,
   "id": "13653d3c",
   "metadata": {},
   "outputs": [],
   "source": [
    "# List unique values in the df['Gender'] column\n",
    "df[\"Gender\"].unique()"
   ]
  },
  {
   "cell_type": "markdown",
   "id": "8059b44c",
   "metadata": {},
   "source": [
    "Hay otra variable llamada `GenderGroup`, consideremos también esta variable:"
   ]
  },
  {
   "cell_type": "code",
   "execution_count": null,
   "id": "1df90783",
   "metadata": {},
   "outputs": [],
   "source": [
    "df[\"GenderGroup\"].unique()"
   ]
  },
  {
   "cell_type": "markdown",
   "id": "d0687479",
   "metadata": {},
   "source": [
    "Parece que estas dos variables podrían contener información redundante. Exploremos esto más a fondo mostrando únicamente estas dos columnas:"
   ]
  },
  {
   "cell_type": "code",
   "execution_count": null,
   "id": "a1f1e668",
   "metadata": {},
   "outputs": [],
   "source": [
    "df[[\"Gender\", \"GenderGroup\"]]"
   ]
  },
  {
   "cell_type": "markdown",
   "id": "3eb0ba26",
   "metadata": {},
   "source": [
    "Al inspeccionar esta salida, parece que estas variables contienen la misma información en diferentes esquemas de codificación. Podemos confirmar aún más esta suposición utilizando la función `crosstab` en Pandas:"
   ]
  },
  {
   "cell_type": "code",
   "execution_count": null,
   "id": "f958ac9d",
   "metadata": {},
   "outputs": [],
   "source": [
    "pd.crosstab(df[\"Gender\"], df[\"GenderGroup\"])"
   ]
  },
  {
   "cell_type": "markdown",
   "id": "58f1412b",
   "metadata": {},
   "source": [
    "Del resultado anterior, está claro que todos aquellos cuyo género es \"F\" tienen un valor de `GenderGroup` de 1, y todos aquellos cuyo género es \"M\" tienen un valor de `GenderGroup` de 2.\n",
    "\n",
    "El mismo resultado se puede obtener utilizando los métodos `groupby()` y `size()`:"
   ]
  },
  {
   "cell_type": "code",
   "execution_count": null,
   "id": "2355ee00",
   "metadata": {},
   "outputs": [],
   "source": [
    "df.groupby(['Gender','GenderGroup']).size()"
   ]
  }
 ],
 "metadata": {
  "kernelspec": {
   "display_name": "Python 3 (ipykernel)",
   "language": "python",
   "name": "python3"
  },
  "language_info": {
   "codemirror_mode": {
    "name": "ipython",
    "version": 3
   },
   "file_extension": ".py",
   "mimetype": "text/x-python",
   "name": "python",
   "nbconvert_exporter": "python",
   "pygments_lexer": "ipython3",
   "version": "3.9.18"
  }
 },
 "nbformat": 4,
 "nbformat_minor": 5
}
